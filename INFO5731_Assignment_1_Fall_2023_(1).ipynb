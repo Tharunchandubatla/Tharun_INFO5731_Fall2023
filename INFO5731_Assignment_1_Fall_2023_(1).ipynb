{
  "cells": [
    {
      "cell_type": "markdown",
      "metadata": {
        "id": "view-in-github",
        "colab_type": "text"
      },
      "source": [
        "<a href=\"https://colab.research.google.com/github/Tharunchandubatla/Tharun_INFO5731_Fall2023/blob/main/INFO5731_Assignment_1_Fall_2023_(1).ipynb\" target=\"_parent\"><img src=\"https://colab.research.google.com/assets/colab-badge.svg\" alt=\"Open In Colab\"/></a>"
      ]
    },
    {
      "cell_type": "markdown",
      "metadata": {
        "id": "Ryk8D1Q4Wsrp"
      },
      "source": [
        "# **INFO5731 Assignment One**"
      ]
    },
    {
      "cell_type": "markdown",
      "metadata": {
        "id": "90_NR8c5XGWc"
      },
      "source": [
        "# Question 1\n",
        "\n",
        "(20 points). Write a Python program to generate 12 random numbers between 1 and 100. Sort the list of numbers in ascending order and print it out. Sort the list of numbers in descending order and print it out. Calculate the average for the group and print it out."
      ]
    },
    {
      "cell_type": "code",
      "execution_count": null,
      "metadata": {
        "id": "5QX6bJjGWXY9",
        "colab": {
          "base_uri": "https://localhost:8080/"
        },
        "outputId": "295318da-6ea8-49e1-ca59-1bdf5d473f19"
      },
      "outputs": [
        {
          "output_type": "stream",
          "name": "stdout",
          "text": [
            "Random Numbers: [64, 92, 51, 95, 97, 96, 68, 16, 62, 15, 12, 100]\n",
            "Ascending Sorted: [12, 15, 16, 51, 62, 64, 68, 92, 95, 96, 97, 100]\n",
            "Descending Sorted: [100, 97, 96, 95, 92, 68, 64, 62, 51, 16, 15, 12]\n",
            "Average: 64.0\n"
          ]
        }
      ],
      "source": [
        "# Your code here\n",
        "import random\n",
        "\n",
        "# Generate 12 random numbers between 1 and 100\n",
        "random_numbers = [random.randint(1, 100) for _ in range(12)]\n",
        "\n",
        "# Sort the list in ascending order\n",
        "ascending_sorted = sorted(random_numbers)\n",
        "\n",
        "# Sort the list in descending order\n",
        "descending_sorted = sorted(random_numbers, reverse=True)\n",
        "\n",
        "# Calculate the average\n",
        "average = sum(random_numbers) / len(random_numbers)\n",
        "\n",
        "# Print the results\n",
        "print(\"Random Numbers:\", random_numbers)\n",
        "print(\"Ascending Sorted:\", ascending_sorted)\n",
        "print(\"Descending Sorted:\", descending_sorted)\n",
        "print(\"Average:\", average)"
      ]
    },
    {
      "cell_type": "markdown",
      "metadata": {
        "id": "1F_PZdH9Sh49"
      },
      "source": [
        "# Question 2\n",
        "(25 points).\n",
        "\n",
        "Write a program that will do the following string formatting tasks:\n",
        "\n",
        "(1) Ask the user to enter two sentences.\n",
        "\n",
        "(2) Make each sentence into a list. Each element in the list should correspond to a word in the sentence. For example, if the sentence is \"Alas! Am I alive? This is my first python program\", the program should print out ['Alas, '!', 'Am', 'I', 'alive, '?', 'This', 'is', 'my', 'first', 'python', 'program'].\n",
        "\n",
        "(3) Compare the two sentences. Print out a list of words that occur in both sentences.\n",
        "\n",
        "(4) Remove any punctuation from the sentence and print it back out. It should remove at least the following characters, but it can remove more: period(“.”), comma (“,”), semicolon (“;”), and colon (“:”)\n",
        "\n",
        "(5) Count the number of vowels in the sentences. Print out each vowel and the number of times it appears in the sentences, such as: a:2, e:1, i:0, etc"
      ]
    },
    {
      "cell_type": "code",
      "execution_count": 5,
      "metadata": {
        "id": "Y0oOSlsOS0cq",
        "colab": {
          "base_uri": "https://localhost:8080/"
        },
        "outputId": "a3be57fa-4554-4f5b-f5ba-2e82795d0087"
      },
      "outputs": [
        {
          "output_type": "stream",
          "name": "stdout",
          "text": [
            "Enter the first sentence:  \"Alas! Am I alive? This is my first python program\"\n",
            "Enter the second sentence: \"Wow! Are you awake? This is your first Python project.\"\n",
            "\n",
            "Words in the first sentence:\n",
            "['\"', 'Alas', '!', 'Am', 'I', 'alive', '?', 'This', 'is', 'my', 'first', 'python', 'program', '\"']\n",
            "\n",
            "Words in the second sentence:\n",
            "['\"', 'Wow', '!', 'Are', 'you', 'awake', '?', 'This', 'is', 'your', 'first', 'Python', 'project', '.\"']\n",
            "\n",
            "Common words:\n",
            "['!', '?', '\"', 'This', 'first', 'is']\n",
            "\n",
            "First sentence without punctuation:\n",
            " Alas Am I alive This is my first python program\n",
            "\n",
            "Second sentence without punctuation:\n",
            "Wow Are you awake This is your first Python project\n",
            "\n",
            "Count of vowels in the first sentence:\n",
            "a: 5\n",
            "e: 1\n",
            "i: 5\n",
            "o: 2\n",
            "u: 0\n",
            "\n",
            "Count of vowels in the second sentence:\n",
            "a: 3\n",
            "e: 3\n",
            "i: 3\n",
            "o: 5\n",
            "u: 2\n"
          ]
        }
      ],
      "source": [
        "import re\n",
        "\n",
        "# Function to count vowels in a sentence\n",
        "def count_vowels(s):\n",
        "    counts = {i: 0 for i in 'aeiou'}\n",
        "    for char in s.lower():\n",
        "        if char in counts:\n",
        "            counts[char] += 1\n",
        "    return counts\n",
        "\n",
        "# Get user input for two sentences\n",
        "first_sentence = input(\"Enter the first sentence: \")\n",
        "second_sentence = input(\"Enter the second sentence: \")\n",
        "\n",
        "# Convert the sentences into lists\n",
        "list1 = [first_sentence]\n",
        "list2 = [second_sentence]\n",
        "\n",
        "# Split the sentences into words\n",
        "a = re.findall(r'\\w+|[^\\s\\w]+', list1[0])\n",
        "b = re.findall(r'\\w+|[^\\s\\w]+', list2[0])\n",
        "\n",
        "# Print the words in each sentence\n",
        "print(\"\\nWords in the first sentence:\")\n",
        "print(a)\n",
        "print(\"\\nWords in the second sentence:\")\n",
        "print(b)\n",
        "\n",
        "# Find and print common words\n",
        "a_set = set(a)\n",
        "b_set = set(b)\n",
        "common_words = list(a_set.intersection(b_set))\n",
        "print(\"\\nCommon words:\")\n",
        "print(common_words)\n",
        "\n",
        "# Remove punctuation from sentences\n",
        "a_pun = list1[0].translate(str.maketrans('', '', string.punctuation))\n",
        "b_pun = list2[0].translate(str.maketrans('', '', string.punctuation))\n",
        "\n",
        "# Print sentences without punctuation\n",
        "print(\"\\nFirst sentence without punctuation:\")\n",
        "print(a_pun)\n",
        "print(\"\\nSecond sentence without punctuation:\")\n",
        "print(b_pun)\n",
        "\n",
        "# Count and print vowels in each sentence\n",
        "print(\"\\nCount of vowels in the first sentence:\")\n",
        "vowel_count1 = count_vowels(a_pun)\n",
        "for k, v in vowel_count1.items():\n",
        "    print(f\"{k}: {v}\")\n",
        "\n",
        "print(\"\\nCount of vowels in the second sentence:\")\n",
        "vowel_count2 = count_vowels(b_pun)\n",
        "for k, v in vowel_count2.items():\n",
        "    print(f\"{k}: {v}\")"
      ]
    },
    {
      "cell_type": "markdown",
      "metadata": {
        "id": "CmFoI4jDS9nx"
      },
      "source": [
        "# Question 3\n",
        "\n",
        "(15 points). The formula that describes the volume V of a sphere with radius r is the following:\n",
        "\n",
        "$ V=\\frac{4}{3}\\ast\\ \\pi\\ast\\ r^3 $\n",
        "\n",
        "Write a program to calculate the value of V when r is in the range of 1–10. Output the result in the following format:\n",
        "\n",
        "\tr\tV\n",
        "\t1\t…\n",
        "\t2\t…\n",
        "\t3\t…\n"
      ]
    },
    {
      "cell_type": "code",
      "execution_count": null,
      "metadata": {
        "id": "pEyqeioAT95b",
        "colab": {
          "base_uri": "https://localhost:8080/"
        },
        "outputId": "0c0cf7ca-b1fe-49f9-b176-26a07b81dd75"
      },
      "outputs": [
        {
          "output_type": "stream",
          "name": "stdout",
          "text": [
            "r    V\n",
            "1    4.19\n",
            "2    33.51\n",
            "3    113.10\n",
            "4    268.08\n",
            "5    523.60\n",
            "6    904.78\n",
            "7    1436.76\n",
            "8    2144.66\n",
            "9    3053.63\n",
            "10    4188.79\n"
          ]
        }
      ],
      "source": [
        "# Your code here\n",
        "import math\n",
        "\n",
        "# Header\n",
        "print(\"r    V\")\n",
        "\n",
        "# Calculate and print the volume for radii from 1 to 10\n",
        "for r in range(1, 11):\n",
        "    # Calculate the volume using the formula\n",
        "    V = (4/3) * math.pi * r**3\n",
        "    # Print the result in the specified format\n",
        "    print(f\"{r}    {V:.2f}\")"
      ]
    },
    {
      "cell_type": "markdown",
      "metadata": {
        "id": "z3tBE7E-Xn5X"
      },
      "source": [
        "# Question 4\n",
        "\n",
        "(40 points). In the field of Data Science, data is often formatted as a comma-delimited (CSV) file, where each line in a file corresponds to a field's value. Refer to Chapter 9 (p. 106) for more information on comma-delimited files. To answer this question, you will need to download the file [Assignment1_denton_housing.csv](https://raw.githubusercontent.com/unt-iialab/info5731-spring2022/main/assignments/Assignment1_denton_housing.csv) included with this assignment. The file [Assignment1_denton_housing.csv](https://raw.githubusercontent.com/unt-iialab/info5731-spring2022/main/assignments/Assignment1_denton_housing.csv) contains statistics about housing in the city of Denton from 2008 to 2014. Write a program to implement the following questions.\n",
        "\n",
        "\n",
        "> Indented block\n",
        "\n",
        "> Indented block\n",
        "\n",
        "\n",
        "\n",
        "\n",
        "(1) (10 pts) Calculate the difference in the number of Occupied Housing Units from year to year and print it. The difference must be calculated for the consecutive years such as 2008-2009, 2009-2010 etc. Finally, print the values in the ascending order.\n",
        "\n",
        "(2) (10 pts) For all the years, calculate the percentage of housing units which are vacant an occupied. Print the results in the following format:\n",
        "\n",
        "Year Vacant Housing Units Occupied Housing Units\n",
        "\n",
        "    2008  30%   70%                          \n",
        "\t2009 ----- -----\n",
        "\t2010 ----- -----\n",
        "    2011 ----- -----\n",
        "\t2012 ----- -----\n",
        "    2013 ----- -----\n",
        "\t2014 ----- -----\n",
        "  \n",
        "  \n",
        "\n",
        "(3) (10 pts) Calculate and print the valued and years in which the highest number of housing units were vacant and occupied. Print the results in the following format:  \n",
        "\n",
        "                              Year\tValue\n",
        "\tVacant Housing Units\t  -----   -----\n",
        "\tOccupied Housing Units\t-----   -----\n",
        "\n",
        "(4) (10 pts) Calculate the harmonic mean of the total housing units and print it out. You can find the information about harmonic mean here: https://ncalculators.com/statistics/harmonic-mean-calculator.htm"
      ]
    },
    {
      "cell_type": "code",
      "execution_count": null,
      "metadata": {
        "id": "lqGYuHBhcsRH",
        "colab": {
          "base_uri": "https://localhost:8080/"
        },
        "outputId": "fea47e9b-ee22-4044-d6d9-436a4fb24dd7"
      },
      "outputs": [
        {
          "output_type": "stream",
          "name": "stdout",
          "text": [
            "Year Range  Difference\n",
            "2007-2008       -1\n",
            "2008-2009       -11\n",
            "2009-2010       -41\n",
            "2010-2011       -21\n",
            "2011-2012       -45\n",
            "2012-2013       -18\n",
            "2013-2014       -18466\n"
          ]
        }
      ],
      "source": [
        "import csv\n",
        "\n",
        "# Initialize a dictionary to store the differences\n",
        "differences = {}\n",
        "\n",
        "# Read the CSV file and calculate the differences\n",
        "with open('/content/Assignment1_denton_housing.csv', newline='') as csvfile:\n",
        "    reader = csv.DictReader(csvfile)\n",
        "    previous_units = None  # Initialize to None for the first row\n",
        "    for row in reader:\n",
        "        year = row['year']\n",
        "        units = int(row['value'])\n",
        "\n",
        "        # Calculate the difference for consecutive years\n",
        "        if previous_units is not None:\n",
        "            difference = units - previous_units\n",
        "            year_range = f\"{int(year) - 1}-{year}\"\n",
        "            differences[year_range] = difference\n",
        "\n",
        "        previous_units = units\n",
        "\n",
        "# Sort the differences by year range in ascending order\n",
        "sorted_differences = sorted(differences.items(), key=lambda x: x[0])\n",
        "\n",
        "# Print the sorted differences\n",
        "print(\"Year Range  Difference\")\n",
        "for year_range, difference in sorted_differences:\n",
        "    print(f\"{year_range}       {difference}\")"
      ]
    },
    {
      "cell_type": "code",
      "source": [
        "import csv\n",
        "\n",
        "# Initialize dictionaries to store vacant and occupied housing units by year\n",
        "vacant_units = {}\n",
        "occupied_units = {}\n",
        "\n",
        "# Read the CSV file and populate the dictionaries\n",
        "with open('/content/Assignment1_denton_housing.csv', newline='') as csvfile:\n",
        "    reader = csv.DictReader(csvfile)\n",
        "    for row in reader:\n",
        "        year = row['year']\n",
        "        value = int(row['value'])\n",
        "        status = row['title_field']\n",
        "\n",
        "        # Populate the dictionaries based on housing unit status\n",
        "        if status == 'Occupied Housing Units':\n",
        "            occupied_units[year] = value\n",
        "        elif status == 'Vacant Housing Units':\n",
        "            vacant_units[year] = value\n",
        "\n",
        "# Print the header\n",
        "print(\"Year  Vacant Housing Units  Occupied Housing Units\")\n",
        "\n",
        "# Iterate through the years and calculate percentages\n",
        "for year in sorted(vacant_units.keys()):\n",
        "    vacant = vacant_units[year]\n",
        "    occupied = occupied_units[year]\n",
        "    total_units = vacant + occupied\n",
        "\n",
        "    # Calculate percentages\n",
        "    vacant_percentage = (vacant / total_units) * 100\n",
        "    occupied_percentage = (occupied / total_units) * 100\n",
        "\n",
        "    # Print the results\n",
        "    print(f\"{year}    {vacant_percentage:.2f}%                   {occupied_percentage:.2f}%\")\n"
      ],
      "metadata": {
        "colab": {
          "base_uri": "https://localhost:8080/"
        },
        "id": "Kbw1OxZYzVTx",
        "outputId": "a8ddae51-25bb-4642-cf43-bed2164727fd"
      },
      "execution_count": null,
      "outputs": [
        {
          "output_type": "stream",
          "name": "stdout",
          "text": [
            "Year  Vacant Housing Units  Occupied Housing Units\n",
            "2008    10.88%                   89.12%\n",
            "2009    9.07%                   90.93%\n",
            "2010    8.14%                   91.86%\n",
            "2011    9.38%                   90.62%\n",
            "2012    6.68%                   93.32%\n",
            "2013    8.80%                   91.20%\n",
            "2014    5.73%                   94.27%\n"
          ]
        }
      ]
    },
    {
      "cell_type": "code",
      "source": [
        "import csv\n",
        "from tabulate import tabulate\n",
        "\n",
        "# Initialize variables to store the year and value for the highest vacant and occupied units\n",
        "highest_vacant_year = None\n",
        "highest_vacant_value = 0\n",
        "highest_occupied_year = None\n",
        "highest_occupied_value = 0\n",
        "\n",
        "# Read the CSV file and find the highest values\n",
        "with open('/content/Assignment1_denton_housing.csv', newline='') as csvfile:\n",
        "    reader = csv.DictReader(csvfile)\n",
        "    for row in reader:\n",
        "        year = row['year']\n",
        "        value = int(row['value'])\n",
        "        status = row['title_field']\n",
        "\n",
        "        # Check for the highest vacant units\n",
        "        if status == 'Vacant Housing Units' and value > highest_vacant_value:\n",
        "            highest_vacant_year = year\n",
        "            highest_vacant_value = value\n",
        "\n",
        "        # Check for the highest occupied units\n",
        "        if status == 'Occupied Housing Units' and value > highest_occupied_value:\n",
        "            highest_occupied_year = year\n",
        "            highest_occupied_value = value\n",
        "\n",
        "# Create a table\n",
        "table = [\n",
        "    [\"Vacant Housing Units\", highest_vacant_year, highest_vacant_value],\n",
        "    [\"Occupied Housing Units\", highest_occupied_year, highest_occupied_value]\n",
        "]\n",
        "\n",
        "# Print the table with headers and without borders\n",
        "print(tabulate(table, headers=[\"\", \"Year\", \"Value\"], tablefmt=\"plain\"))"
      ],
      "metadata": {
        "colab": {
          "base_uri": "https://localhost:8080/"
        },
        "id": "03Rx2WBozwQC",
        "outputId": "2aa02e24-54ff-4755-c019-e43af13cb58b"
      },
      "execution_count": null,
      "outputs": [
        {
          "output_type": "stream",
          "name": "stdout",
          "text": [
            "                          Year    Value\n",
            "Vacant Housing Units      2008     4483\n",
            "Occupied Housing Units    2014    46295\n"
          ]
        }
      ]
    },
    {
      "cell_type": "code",
      "source": [
        "import pandas as pd\n",
        "\n",
        "data = pd.read_csv('/content/Assignment1_denton_housing.csv')  # reading the csv file into a dataframe\n",
        "\n",
        "total_housing_units = data[data['title_field'] == 'Total Housing Units'] #filtering the data to select only 'total housing units'\n",
        "print(total_housing_units)\n",
        "\n",
        "numerator = len(total_housing_units) # finding total number of housing units\n",
        "total_units = total_housing_units['value']\n",
        "denominator=0.0\n",
        "\n",
        "#calculating harmonic mean\n",
        "\n",
        "for i in total_units:\n",
        "  denominator = denominator + (1/i)\n",
        "harmonic_mean=numerator / denominator\n",
        "\n",
        "print(\"The harmonic mean of Total Housing Units is:\", harmonic_mean)"
      ],
      "metadata": {
        "colab": {
          "base_uri": "https://localhost:8080/"
        },
        "id": "6jUZbJHt3Nlb",
        "outputId": "938455a5-c5b7-406d-ba74-f4b9f00f8fc3"
      },
      "execution_count": 2,
      "outputs": [
        {
          "output_type": "stream",
          "name": "stdout",
          "text": [
            "    year          title_field  value\n",
            "0   2014  Total Housing Units  49109\n",
            "3   2013  Total Housing Units  47888\n",
            "6   2012  Total Housing Units  45121\n",
            "9   2011  Total Housing Units  44917\n",
            "12  2010  Total Housing Units  44642\n",
            "15  2009  Total Housing Units  39499\n",
            "18  2008  Total Housing Units  41194\n",
            "The harmonic mean of Total Housing Units is: 44398.28543969185\n"
          ]
        }
      ]
    }
  ],
  "metadata": {
    "colab": {
      "provenance": [],
      "include_colab_link": true
    },
    "kernelspec": {
      "display_name": "Python 3 (ipykernel)",
      "language": "python",
      "name": "python3"
    },
    "language_info": {
      "codemirror_mode": {
        "name": "ipython",
        "version": 3
      },
      "file_extension": ".py",
      "mimetype": "text/x-python",
      "name": "python",
      "nbconvert_exporter": "python",
      "pygments_lexer": "ipython3",
      "version": "3.9.12"
    }
  },
  "nbformat": 4,
  "nbformat_minor": 0
}