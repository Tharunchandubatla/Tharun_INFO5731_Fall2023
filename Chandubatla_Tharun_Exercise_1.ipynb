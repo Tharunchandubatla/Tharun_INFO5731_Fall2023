{
  "cells": [
    {
      "cell_type": "markdown",
      "metadata": {
        "id": "view-in-github",
        "colab_type": "text"
      },
      "source": [
        "<a href=\"https://colab.research.google.com/github/Tharunchandubatla/Tharun_INFO5731_Fall2023/blob/main/Chandubatla_Tharun_Exercise_1.ipynb\" target=\"_parent\"><img src=\"https://colab.research.google.com/assets/colab-badge.svg\" alt=\"Open In Colab\"/></a>"
      ]
    },
    {
      "cell_type": "markdown",
      "metadata": {
        "id": "DymRJbxDBCnf"
      },
      "source": [
        "# **The first In-class-exercise (08/30/2023, 40 points in total)**\n",
        "This exercise is due tomorrow 08/31/203 11:59 PM.\n"
      ]
    },
    {
      "cell_type": "markdown",
      "source": [
        "(1) Write a Python program to calculate the area of a rectangle using user-input length and width."
      ],
      "metadata": {
        "id": "FBKvD6O_TY6e"
      }
    },
    {
      "cell_type": "code",
      "source": [
        "# Function to calculate the area of a rectangle\n",
        "def calculate_rectangle_area(length, width):\n",
        "    return length * width\n",
        "\n",
        "try:\n",
        "    length = float(input(\"Enter the length of the rectangle: \"))  # Input length from the user\n",
        "    width = float(input(\"Enter the width of the rectangle: \"))    # Input width from the user\n",
        "\n",
        "    if length <= 0 or width <= 0:\n",
        "        raise ValueError(\"Both length and width must be positive numbers.\")\n",
        "\n",
        "    area = calculate_rectangle_area(length, width)  # Calculate the area\n",
        "    print(\"The area of the rectangle is:\", area)\n",
        "\n",
        "except ValueError as e:\n",
        "    print(e)"
      ],
      "metadata": {
        "id": "cikVKDXdTbzE",
        "colab": {
          "base_uri": "https://localhost:8080/"
        },
        "outputId": "375e29fa-e23e-45d4-acae-3657802752a3"
      },
      "execution_count": 4,
      "outputs": [
        {
          "output_type": "stream",
          "name": "stdout",
          "text": [
            "Enter the length of the rectangle: 56\n",
            "Enter the width of the rectangle: 89\n",
            "The area of the rectangle is: 4984.0\n"
          ]
        }
      ]
    },
    {
      "cell_type": "markdown",
      "source": [
        "(2) Create a program that takes two numbers from the user and swaps their values without using a temporary variable."
      ],
      "metadata": {
        "id": "E9RqrlwdTfvl"
      }
    },
    {
      "cell_type": "code",
      "source": [
        "# Get input from the user for the first number\n",
        "num1 = float(input(\"Enter the first number: \"))\n",
        "\n",
        "# Get input from the user for the second number\n",
        "num2 = float(input(\"Enter the second number: \"))\n",
        "\n",
        "# Swap the values of num1 and num2 without using a temporary variable\n",
        "num1, num2 = num2, num1\n",
        "\n",
        "# Display the result after swapping\n",
        "print(\"After swapping:\")\n",
        "print(\"First number:\", num1)\n",
        "print(\"Second number:\", num2)"
      ],
      "metadata": {
        "id": "4XvRknixTh1g",
        "colab": {
          "base_uri": "https://localhost:8080/"
        },
        "outputId": "1a65fd40-75bb-4933-edb6-c097f8d58227"
      },
      "execution_count": 5,
      "outputs": [
        {
          "output_type": "stream",
          "name": "stdout",
          "text": [
            "Enter the first number: 56\n",
            "Enter the second number: 47\n",
            "After swapping:\n",
            "First number: 47.0\n",
            "Second number: 56.0\n"
          ]
        }
      ]
    },
    {
      "cell_type": "markdown",
      "metadata": {
        "id": "03jb4GZsBkBS"
      },
      "source": [
        "(3) Write a Python program to calculate the length of a string."
      ]
    },
    {
      "cell_type": "code",
      "execution_count": 3,
      "metadata": {
        "id": "YaGLbSHHB8Ej",
        "colab": {
          "base_uri": "https://localhost:8080/"
        },
        "outputId": "52496823-90f8-41eb-8b8a-5f4fe111df5d"
      },
      "outputs": [
        {
          "output_type": "stream",
          "name": "stdout",
          "text": [
            "Enter a string: Tharun\n",
            "The length of the string is: 6\n"
          ]
        }
      ],
      "source": [
        "# Get input from the user\n",
        "user_string = input(\"Enter a string: \")\n",
        "\n",
        "# Calculate the length of the string using the len() function\n",
        "string_length = len(user_string)\n",
        "\n",
        "# Display the length of the string to the user\n",
        "print(\"The length of the string is:\", string_length)"
      ]
    },
    {
      "cell_type": "markdown",
      "metadata": {
        "id": "jJDe71iLB616"
      },
      "source": [
        "(4) Write a Python program to count the number of characters in a string.\n",
        "\n",
        "Sample String : 'google.com‘,\n",
        "\n",
        "Expected Result : {'o': 3, 'g': 2, '.': 1, 'e': 1, 'l': 1, 'm': 1, 'c': 1}"
      ]
    },
    {
      "cell_type": "code",
      "execution_count": 16,
      "metadata": {
        "id": "MtKskTzbCLaU",
        "colab": {
          "base_uri": "https://localhost:8080/"
        },
        "outputId": "3872aa91-6fd0-438d-9827-3eae1152ed2d"
      },
      "outputs": [
        {
          "output_type": "stream",
          "name": "stdout",
          "text": [
            "Enter a string:google.com\n",
            "Character Count: {'g': 2, 'o': 3, 'l': 1, 'e': 1, '.': 1, 'c': 1, 'm': 1}\n"
          ]
        }
      ],
      "source": [
        "# Define a function to count characters in a string\n",
        "def count_characters(input_string):\n",
        "    char_count = {}  # Initialize an empty dictionary to store character counts\n",
        "\n",
        "    # Loop through each character in the input string\n",
        "    for char in input_string:\n",
        "        if char in char_count:\n",
        "            char_count[char] += 1  # If character is already in dictionary, increment its count\n",
        "        else:\n",
        "            char_count[char] = 1   # If character is not in dictionary, add it with count 1\n",
        "\n",
        "    return char_count  # Return the character count dictionary\n",
        "\n",
        "# Sample string to count characters from\n",
        "sample_string = input('Enter a string:')\n",
        "\n",
        "# Get the character count dictionary by calling the function\n",
        "result = count_characters(sample_string)\n",
        "\n",
        "# Print the original string and the character count dictionary\n",
        "print(\"Character Count:\", result)"
      ]
    },
    {
      "cell_type": "markdown",
      "metadata": {
        "id": "55W9AMdXCSpV"
      },
      "source": [
        "(5) Write a Python program to sum all the items in a list."
      ]
    },
    {
      "cell_type": "code",
      "execution_count": 7,
      "metadata": {
        "id": "I57NXsauCec2",
        "colab": {
          "base_uri": "https://localhost:8080/"
        },
        "outputId": "9284c55f-fdb1-4992-8e62-a2adfe531641"
      },
      "outputs": [
        {
          "output_type": "stream",
          "name": "stdout",
          "text": [
            "Enter a list of numbers: 2 3 4 5 6 8 9\n",
            "The sum of the items in the list is: 37.0\n"
          ]
        }
      ],
      "source": [
        "def calculate_list_sum(input_list):\n",
        "    total = 0\n",
        "\n",
        "    for item in input_list:\n",
        "        total += item\n",
        "\n",
        "    return total\n",
        "\n",
        "try:\n",
        "    num_list = [float(x) for x in input(\"Enter a list of numbers: \").split()]\n",
        "\n",
        "    list_sum = calculate_list_sum(num_list)\n",
        "    print(\"The sum of the items in the list is:\", list_sum)\n",
        "\n",
        "except ValueError:\n",
        "    print(\"Invalid input. Please enter a valid list of numbers.\")"
      ]
    },
    {
      "cell_type": "markdown",
      "metadata": {
        "id": "4ulBZ6yhCi9F"
      },
      "source": [
        "(6) Write a Python program to get a string from a given string where all occurrences of its first char have been changed to '\\$', except the first char itself.\n",
        "\n",
        "Sample String : 'restart‘,\n",
        "\n",
        "Expected Result : 'resta\\$t'"
      ]
    },
    {
      "cell_type": "code",
      "execution_count": 13,
      "metadata": {
        "id": "Fj0XhwbBCw2o",
        "colab": {
          "base_uri": "https://localhost:8080/"
        },
        "outputId": "6c70d5bf-8d34-42b7-b844-4552bd220a2f"
      },
      "outputs": [
        {
          "output_type": "stream",
          "name": "stdout",
          "text": [
            "Enter a string: restart\n",
            "Original String: restart\n",
            "Modified String: resta$t\n"
          ]
        }
      ],
      "source": [
        "try:\n",
        "    input_string = input(\"Enter a string: \")  # Get input from the user\n",
        "\n",
        "    if len(input_string) >= 2:\n",
        "        first_char = input_string[0]  # Get the first character of the string\n",
        "        modified_string = first_char + input_string[1:].replace(first_char, '$')  # Replace occurrences\n",
        "\n",
        "        print(\"Original String:\", input_string)\n",
        "        print(\"Modified String:\", modified_string)\n",
        "    else:\n",
        "        print(\"Input string should have at least two characters.\")\n",
        "\n",
        "except ValueError:\n",
        "    print(\"Invalid input.\")"
      ]
    },
    {
      "cell_type": "markdown",
      "source": [
        "(7) Create a program that calculates the factorial of a number using a while loop."
      ],
      "metadata": {
        "id": "qVXA3q7ET5JI"
      }
    },
    {
      "cell_type": "code",
      "source": [
        "num = int(input(\"Enter a number: \"))  # Get input from the user\n",
        "\n",
        "if num < 0:\n",
        "    print(\"Factorial is not defined for negative numbers.\")\n",
        "else:\n",
        "    factorial = 1  # Initialize the factorial to 1\n",
        "    current_number = num  # Initialize a variable to keep track of the current number\n",
        "\n",
        "    # Calculate factorial using a while loop\n",
        "    while current_number > 0:\n",
        "        factorial *= current_number  # Multiply current factorial by current number\n",
        "        current_number -= 1  # Decrement current number for the next iteration\n",
        "\n",
        "    print(\"Factorial:\", factorial)  # Print the calculated factorial"
      ],
      "metadata": {
        "id": "Lbt7R6UkT7BA",
        "colab": {
          "base_uri": "https://localhost:8080/"
        },
        "outputId": "a62466a4-5304-40ed-a5db-41dec2063659"
      },
      "execution_count": 17,
      "outputs": [
        {
          "output_type": "stream",
          "name": "stdout",
          "text": [
            "Enter a number: 6\n",
            "Factorial: 720\n"
          ]
        }
      ]
    },
    {
      "cell_type": "markdown",
      "source": [
        "(8) Create a program that takes a list of numbers as input and outputs a new list with only the even numbers."
      ],
      "metadata": {
        "id": "6YfbzXMNT--R"
      }
    },
    {
      "cell_type": "code",
      "source": [
        "# Get input from the user for a list of numbers separated by spaces\n",
        "input_list = [int(x) for x in input(\"Enter a list of numbers separated by spaces: \").split()]\n",
        "\n",
        "# Initialize an empty list to store even numbers\n",
        "even_numbers = []\n",
        "\n",
        "# Iterate through the input list and append even numbers to the new list\n",
        "for num in input_list:\n",
        "    if num % 2 == 0:\n",
        "        even_numbers.append(num)\n",
        "\n",
        "# Print the list of even numbers\n",
        "print(\"Even Numbers:\", even_numbers)"
      ],
      "metadata": {
        "id": "54q7wMQPUAKu",
        "colab": {
          "base_uri": "https://localhost:8080/"
        },
        "outputId": "5f42b4f8-8699-42b5-ac4d-64c74672e533"
      },
      "execution_count": 18,
      "outputs": [
        {
          "output_type": "stream",
          "name": "stdout",
          "text": [
            "Enter a list of numbers separated by spaces: 5 4 9 8 87 36 25 14 12 81 \n",
            "Even Numbers: [4, 8, 36, 14, 12]\n"
          ]
        }
      ]
    },
    {
      "cell_type": "markdown",
      "metadata": {
        "id": "_bIP7s1MCzue"
      },
      "source": [
        "(9) Write a program with python which could accept two parameter a and b to calculate and output the result of S, where\n",
        "\n",
        "$\\ S=3.14*(1+a/b)^3$\n",
        "\n"
      ]
    },
    {
      "cell_type": "code",
      "execution_count": 19,
      "metadata": {
        "id": "w79QilHXD3Mg",
        "colab": {
          "base_uri": "https://localhost:8080/"
        },
        "outputId": "6c028845-102d-4924-bdfe-e3d7d3c8a459"
      },
      "outputs": [
        {
          "output_type": "stream",
          "name": "stdout",
          "text": [
            "Enter the value of 'a': 56\n",
            "Enter the value of 'b': 21\n",
            "The result of S is: 154.79037037037037\n"
          ]
        }
      ],
      "source": [
        "# Accept input values for 'a' and 'b' from the user\n",
        "a = float(input(\"Enter the value of 'a': \"))\n",
        "b = float(input(\"Enter the value of 'b': \"))\n",
        "\n",
        "# Calculate the value of 'S' using the given formula\n",
        "S = 3.14 * (1 + a / b) ** 3\n",
        "\n",
        "# Output the calculated result of 'S'\n",
        "print(\"The result of S is:\", S)"
      ]
    },
    {
      "cell_type": "markdown",
      "metadata": {
        "id": "xCa2bK9aD4Q3"
      },
      "source": [
        "(10) Write a Python program to concatenate following dictionaries to create a new one.\n",
        "\n",
        "Sample Dictionary : dic1={1:10, 2:20}, dic2={3:30, 4:40}, dic3={5:50,6:60},\n",
        "\n",
        "Expected Result : {1: 10, 2: 20, 3: 30, 4: 40, 5: 50, 6: 60}\n"
      ]
    },
    {
      "cell_type": "code",
      "execution_count": 20,
      "metadata": {
        "id": "_z4aLqAbEET1",
        "colab": {
          "base_uri": "https://localhost:8080/"
        },
        "outputId": "efd700f8-7a0f-409a-c252-cbc8a674a61a"
      },
      "outputs": [
        {
          "output_type": "stream",
          "name": "stdout",
          "text": [
            "Enter dictionary 1 (key:value,key:value,...): 1:10,2:20\n",
            "Enter dictionary 2 (key:value,key:value,...): 3:30,4:40\n",
            "Enter dictionary 3 (key:value,key:value,...): 5:50,6:60\n",
            "Concatenated Dictionary: {1: 10, 2: 20, 3: 30, 4: 40, 5: 50, 6: 60}\n"
          ]
        }
      ],
      "source": [
        "# Get input for the first dictionary from the user\n",
        "dic1_input = input(\"Enter dictionary 1 (key:value,key:value,...): \")\n",
        "\n",
        "# Create a dictionary from the user input for dic1\n",
        "dic1 = {}\n",
        "for pair in dic1_input.split(\",\"):\n",
        "    key, value = pair.split(\":\")\n",
        "    dic1[int(key)] = int(value)\n",
        "\n",
        "# Get input for the second dictionary from the user\n",
        "dic2_input = input(\"Enter dictionary 2 (key:value,key:value,...): \")\n",
        "\n",
        "# Create a dictionary from the user input for dic2\n",
        "dic2 = {}\n",
        "for pair in dic2_input.split(\",\"):\n",
        "    key, value = pair.split(\":\")\n",
        "    dic2[int(key)] = int(value)\n",
        "\n",
        "# Get input for the third dictionary from the user\n",
        "dic3_input = input(\"Enter dictionary 3 (key:value,key:value,...): \")\n",
        "\n",
        "# Create a dictionary from the user input for dic3\n",
        "dic3 = {}\n",
        "for pair in dic3_input.split(\",\"):\n",
        "    key, value = pair.split(\":\")\n",
        "    dic3[int(key)] = int(value)\n",
        "\n",
        "# Concatenate the dictionaries to create a new one\n",
        "concatenated_dict = {**dic1, **dic2, **dic3}\n",
        "\n",
        "# Output the concatenated dictionary\n",
        "print(\"Concatenated Dictionary:\", concatenated_dict)"
      ]
    },
    {
      "cell_type": "markdown",
      "source": [
        "(11) Write a Python function that accepts a tuple of integers and returns the largest and smallest elements."
      ],
      "metadata": {
        "id": "bkyZ2xSZUOst"
      }
    },
    {
      "cell_type": "code",
      "source": [
        "def find_largest_and_smallest(numbers_tuple):\n",
        "    if not numbers_tuple:\n",
        "        return None, None  # Return None for both if the tuple is empty\n",
        "\n",
        "    largest = smallest = numbers_tuple[0]  # Initialize largest and smallest with the first element\n",
        "\n",
        "    # Iterate through the tuple to find the largest and smallest elements\n",
        "    for num in numbers_tuple:\n",
        "        if num > largest:\n",
        "            largest = num\n",
        "        elif num < smallest:\n",
        "            smallest = num\n",
        "\n",
        "    return largest, smallest\n",
        "\n",
        "# Example usage\n",
        "input_tuple = tuple(map(int, input(\"Enter a tuple of integers separated by spaces: \").split()))\n",
        "\n",
        "largest, smallest = find_largest_and_smallest(input_tuple)\n",
        "\n",
        "print(\"Largest Element:\", largest)\n",
        "print(\"Smallest Element:\", smallest)"
      ],
      "metadata": {
        "id": "3FdLRBKOUQEd",
        "colab": {
          "base_uri": "https://localhost:8080/"
        },
        "outputId": "6dfdf34e-9cd1-4c54-c86b-690f6474359a"
      },
      "execution_count": 21,
      "outputs": [
        {
          "output_type": "stream",
          "name": "stdout",
          "text": [
            "Enter a tuple of integers separated by spaces: 123 456 789\n",
            "Largest Element: 789\n",
            "Smallest Element: 123\n"
          ]
        }
      ]
    },
    {
      "cell_type": "markdown",
      "source": [
        "(12) Write a Python program that counts the frequency of each character in a given string and stores it in a dictionary."
      ],
      "metadata": {
        "id": "O0TVi3gKUTpp"
      }
    },
    {
      "cell_type": "code",
      "source": [
        "# Function to count character frequency in a string and return a dictionary\n",
        "def count_character_frequency(input_string):\n",
        "    char_frequency = {}  # Initialize an empty dictionary to store character frequencies\n",
        "\n",
        "    # Iterate through each character in the input string\n",
        "    for char in input_string:\n",
        "        if char in char_frequency:\n",
        "            char_frequency[char] += 1  # Increment the count if the character is already in the dictionary\n",
        "        else:\n",
        "            char_frequency[char] = 1   # Add the character to the dictionary with count 1 if it's not there\n",
        "\n",
        "    return char_frequency\n",
        "\n",
        "# Get input from the user\n",
        "input_string = input(\"Enter a string: \")\n",
        "\n",
        "# Call the function to count character frequency and get the result\n",
        "frequency_result = count_character_frequency(input_string)\n",
        "\n",
        "# Print the character frequency dictionary\n",
        "print(\"Character Frequency:\", frequency_result)"
      ],
      "metadata": {
        "id": "lAtfSfZXUU-h",
        "colab": {
          "base_uri": "https://localhost:8080/"
        },
        "outputId": "b697224f-6ed2-46af-df6f-e0a27e8ea114"
      },
      "execution_count": 22,
      "outputs": [
        {
          "output_type": "stream",
          "name": "stdout",
          "text": [
            "Enter a string: Tharun\n",
            "Character Frequency: {'T': 1, 'h': 1, 'a': 1, 'r': 1, 'u': 1, 'n': 1}\n"
          ]
        }
      ]
    },
    {
      "cell_type": "markdown",
      "metadata": {
        "id": "0v48Vqa7FrQh"
      },
      "source": [
        "(13) Write a Python program to check whether an element exists within a tuple."
      ]
    },
    {
      "cell_type": "code",
      "execution_count": 23,
      "metadata": {
        "id": "7WEmgq-DF2P1",
        "colab": {
          "base_uri": "https://localhost:8080/"
        },
        "outputId": "c05ac787-ef37-470b-d0b6-760a46abfb98"
      },
      "outputs": [
        {
          "output_type": "stream",
          "name": "stdout",
          "text": [
            "Enter elements separated by spaces to create a tuple: 4 5 6 7\n",
            "Enter an element to check for: 10\n",
            "Element does not exist in the tuple.\n"
          ]
        }
      ],
      "source": [
        "# Function to check if an element exists in a tuple\n",
        "def element_exists_in_tuple(element, input_tuple):\n",
        "    return element in input_tuple\n",
        "\n",
        "try:\n",
        "    # Get input elements separated by spaces and create a tuple\n",
        "    input_tuple = tuple(input(\"Enter elements separated by spaces to create a tuple: \").split())\n",
        "\n",
        "    # Get the element to check for\n",
        "    element_to_check = input(\"Enter an element to check for: \")\n",
        "\n",
        "    # Call the function to check if the element exists in the tuple\n",
        "    if element_exists_in_tuple(element_to_check, input_tuple):\n",
        "        print(\"Element exists in the tuple.\")\n",
        "    else:\n",
        "        print(\"Element does not exist in the tuple.\")\n",
        "\n",
        "except ValueError:\n",
        "    print(\"Invalid input.\")"
      ]
    },
    {
      "cell_type": "markdown",
      "metadata": {
        "id": "vD5PYLMuGga_"
      },
      "source": [
        "(14) Write a Python program to find maximum and the minimum value in a set."
      ]
    },
    {
      "cell_type": "code",
      "execution_count": 25,
      "metadata": {
        "id": "t0D5kdJUGjjw",
        "colab": {
          "base_uri": "https://localhost:8080/"
        },
        "outputId": "538bafe1-813e-4dc8-ddc1-95bf85d88cc3"
      },
      "outputs": [
        {
          "output_type": "stream",
          "name": "stdout",
          "text": [
            "Enter elements separated by spaces to create a set: 54 55 23\n",
            "Maximum Value: 55.0\n",
            "Minimum Value: 23.0\n"
          ]
        }
      ],
      "source": [
        "# Function to find maximum and minimum values in a set\n",
        "def find_max_min_values(input_set):\n",
        "    if not input_set:\n",
        "        return None, None  # Return None for both if the set is empty\n",
        "\n",
        "    max_value = max(input_set)  # Find maximum value using the max() function\n",
        "    min_value = min(input_set)  # Find minimum value using the min() function\n",
        "\n",
        "    return max_value, min_value\n",
        "\n",
        "# Get input elements separated by spaces and create a set\n",
        "input_set = set(map(float, input(\"Enter elements separated by spaces to create a set: \").split()))\n",
        "\n",
        "# Call the function to find maximum and minimum values\n",
        "max_value, min_value = find_max_min_values(input_set)\n",
        "\n",
        "# Display the maximum and minimum values\n",
        "print(\"Maximum Value:\", max_value)\n",
        "print(\"Minimum Value:\", min_value)"
      ]
    },
    {
      "cell_type": "markdown",
      "metadata": {
        "id": "uHkd-y5VhVWC"
      },
      "source": [
        "(15) Write a Python program to randomly divide the students in this class into six groups for term projects, each group should have at least 4 students but no more than 6 students (including 6). Here is the students list:\n",
        "student_list_fall_2023=['sb1826' ,\n",
        " 'lb0582' ,\n",
        " 'ab1820' ,\n",
        " 'sb1883' ,\n",
        " 'mb1296' ,\n",
        " 'sc1622' ,\n",
        " 'tc0469' ,\n",
        " 'ac1770' ,\n",
        " 'mc1453' ,\n",
        " 'ad1187' ,\n",
        " 'sd0926' ,\n",
        " 'sd1268' ,\n",
        " 'ag1609' ,\n",
        " 'sg1638' ,\n",
        " 'mg1299' ,\n",
        " 'vkk0022' ,\n",
        " 'bk0413' ,\n",
        " 'gk0257' ,\n",
        " 'am2807' ,\n",
        " 'gm0558' ,\n",
        " 'pm0658' ,\n",
        " 'am2346' ,\n",
        " 'rm1090' ,\n",
        " 'sm2364' ,\n",
        " 'sm2747' ,\n",
        " 'sm2343' ,\n",
        " 'vm0597' ,\n",
        " 'htn0086' ,\n",
        " 'sp2075' ,\n",
        " 'gp0306' ,\n",
        " 'lp0502' ,\n",
        " 'sr1508' ,\n",
        " 'vr0331' ,\n",
        " 'yr0180' ,\n",
        " 'as2819' ,\n",
        " 'ss2981' ,\n",
        " 'ns0756' ,\n",
        " 'mt0825' ,\n",
        " 'dt0463' ,\n",
        " 'su0137' ,\n",
        " 'dv0310'\n",
        "]"
      ]
    },
    {
      "cell_type": "code",
      "execution_count": 37,
      "metadata": {
        "id": "3iGbmcOBhTwy",
        "colab": {
          "base_uri": "https://localhost:8080/"
        },
        "outputId": "892abb3d-66ca-47cd-a51a-5405ec0463ac"
      },
      "outputs": [
        {
          "output_type": "stream",
          "name": "stdout",
          "text": [
            "Group 1: sr1508, as2819, vr0331, am2346, dv0310, mg1299, sm2747\n",
            "Group 2: ad1187, ag1609, bk0413, gk0257, su0137, mt0825, mc1453\n",
            "Group 3: tc0469, lp0502, ac1770, am2807, vm0597, ab1820, vkk0022\n",
            "Group 4: sg1638, sm2364, mb1296, sc1622, gm0558, sb1826\n",
            "Group 5: sp2075, rm1090, sd0926, sd1268, sm2343, sb1883, htn0086\n",
            "Group 6: gp0306, lb0582, ss2981, pm0658, ns0756, dt0463, yr0180\n"
          ]
        }
      ],
      "source": [
        "import random\n",
        "\n",
        "# List of students\n",
        "student_list_fall_2023 = ['sb1826', 'lb0582', 'ab1820', 'sb1883', 'mb1296', 'sc1622', 'tc0469', 'ac1770', 'mc1453', 'ad1187',\n",
        "                          'sd0926', 'sd1268', 'ag1609', 'sg1638', 'mg1299', 'vkk0022', 'bk0413', 'gk0257', 'am2807', 'gm0558',\n",
        "                          'pm0658', 'am2346', 'rm1090', 'sm2364', 'sm2747', 'sm2343', 'vm0597', 'htn0086', 'sp2075', 'gp0306',\n",
        "                          'lp0502', 'sr1508', 'vr0331', 'yr0180', 'as2819', 'ss2981', 'ns0756', 'mt0825', 'dt0463', 'su0137', 'dv0310']\n",
        "\n",
        "# Shuffle the student list randomly\n",
        "random.shuffle(student_list_fall_2023)\n",
        "\n",
        "# Initialize variables\n",
        "groups = [[] for _ in range(6)]\n",
        "\n",
        "# Divide students into groups\n",
        "for student in student_list_fall_2023:\n",
        "    min_group_len = min(len(group) for group in groups)\n",
        "    available_groups = [group_index for group_index, group in enumerate(groups) if len(group) == min_group_len]\n",
        "    chosen_group = random.choice(available_groups)\n",
        "    groups[chosen_group].append(student)\n",
        "\n",
        "# Display the groups\n",
        "for i, group in enumerate(groups, start=1):\n",
        "    print(f\"Group {i}: {', '.join(group)}\")"
      ]
    },
    {
      "cell_type": "markdown",
      "metadata": {
        "id": "fmZ9vX20Qs3d"
      },
      "source": [
        "(16) Write a Python program to find the duplicate elements in a given array of integers. Return -1 If there are no such elements."
      ]
    },
    {
      "cell_type": "code",
      "execution_count": 39,
      "metadata": {
        "id": "W8Jw6sWMQs3d",
        "colab": {
          "base_uri": "https://localhost:8080/"
        },
        "outputId": "17765614-9778-4b7f-cd7a-89b3410e201e"
      },
      "outputs": [
        {
          "output_type": "stream",
          "name": "stdout",
          "text": [
            "Enter elements separated by spaces: 4 56 65 89 5 78 23 56 \n",
            "Duplicate elements: [56]\n"
          ]
        }
      ],
      "source": [
        "def find_duplicate_elements(arr):\n",
        "    unique_elements = set()  # Set to store unique elements\n",
        "    duplicate_elements = set()  # Set to store duplicate elements\n",
        "\n",
        "    for num in arr:\n",
        "        if num in unique_elements:\n",
        "            duplicate_elements.add(num)  # Add to duplicate set if already seen\n",
        "        else:\n",
        "            unique_elements.add(num)  # Add to unique set if not seen before\n",
        "\n",
        "    if not duplicate_elements:\n",
        "        return -1  # Return -1 if no duplicates found\n",
        "    else:\n",
        "        return list(duplicate_elements)  # Return list of duplicate elements\n",
        "\n",
        "# Get input from the user for the array of integers\n",
        "input_array = list(map(int, input(\"Enter elements separated by spaces: \").split()))\n",
        "\n",
        "# Call the function to find duplicate elements\n",
        "result = find_duplicate_elements(input_array)\n",
        "\n",
        "# Display the result\n",
        "if result == -1:\n",
        "    print(\"No duplicate elements found.\")\n",
        "else:\n",
        "    print(\"Duplicate elements:\", result)"
      ]
    },
    {
      "cell_type": "markdown",
      "metadata": {
        "id": "hvq4APMhQs3d"
      },
      "source": [
        "(17) Write a Python program to select all the Sundays of a specified year."
      ]
    },
    {
      "cell_type": "code",
      "execution_count": 44,
      "metadata": {
        "id": "ZnoxhSglQs3d",
        "colab": {
          "base_uri": "https://localhost:8080/"
        },
        "outputId": "e418d73b-8fdb-4d34-d734-f441a4890f08"
      },
      "outputs": [
        {
          "output_type": "stream",
          "name": "stdout",
          "text": [
            "Enter the year: 2080\n",
            "Sundays in the specified year:\n",
            "2080-01-07\n",
            "2080-01-14\n",
            "2080-01-21\n",
            "2080-01-28\n",
            "2080-02-04\n",
            "2080-02-11\n",
            "2080-02-18\n",
            "2080-02-25\n",
            "2080-03-03\n",
            "2080-03-10\n",
            "2080-03-17\n",
            "2080-03-24\n",
            "2080-03-31\n",
            "2080-04-07\n",
            "2080-04-14\n",
            "2080-04-21\n",
            "2080-04-28\n",
            "2080-05-05\n",
            "2080-05-12\n",
            "2080-05-19\n",
            "2080-05-26\n",
            "2080-06-02\n",
            "2080-06-09\n",
            "2080-06-16\n",
            "2080-06-23\n",
            "2080-06-30\n",
            "2080-07-07\n",
            "2080-07-14\n",
            "2080-07-21\n",
            "2080-07-28\n",
            "2080-08-04\n",
            "2080-08-11\n",
            "2080-08-18\n",
            "2080-08-25\n",
            "2080-09-01\n",
            "2080-09-08\n",
            "2080-09-15\n",
            "2080-09-22\n",
            "2080-09-29\n",
            "2080-10-06\n",
            "2080-10-13\n",
            "2080-10-20\n",
            "2080-10-27\n",
            "2080-11-03\n",
            "2080-11-10\n",
            "2080-11-17\n",
            "2080-11-24\n",
            "2080-12-01\n",
            "2080-12-08\n",
            "2080-12-15\n",
            "2080-12-22\n",
            "2080-12-29\n"
          ]
        }
      ],
      "source": [
        "import datetime\n",
        "\n",
        "def find_sundays(year):\n",
        "    sundays = []\n",
        "\n",
        "    # Loop through all the months of the specified year\n",
        "    for month in range(1, 13):\n",
        "        # Loop through all the days of the month\n",
        "        for day in range(1, 32):\n",
        "            try:\n",
        "                # Create a datetime object for the current date\n",
        "                current_date = datetime.date(year, month, day)\n",
        "                # Check if the day is a Sunday (weekday() returns 6 for Sunday)\n",
        "                if current_date.weekday() == 6:\n",
        "                    sundays.append(current_date)\n",
        "            except ValueError:\n",
        "                # ValueError is raised if the day is invalid for the current month\n",
        "                pass\n",
        "\n",
        "    return sundays\n",
        "\n",
        "# Get input from the user for the year\n",
        "year = int(input(\"Enter the year: \"))\n",
        "\n",
        "# Call the function to find all the Sundays\n",
        "sundays = find_sundays(year)\n",
        "\n",
        "# Display the list of Sundays\n",
        "if sundays:\n",
        "    print(\"Sundays in the specified year:\")\n",
        "    for sunday in sundays:\n",
        "        print(sunday)\n",
        "else:\n",
        "    print(\"No Sundays found in the specified year.\")"
      ]
    },
    {
      "cell_type": "markdown",
      "source": [
        "(18) Build a program that calculates the factorial of a given positive integer. The factorial of a non-negative integer n is the product of all positive integers less than or equal to n."
      ],
      "metadata": {
        "id": "55FWoSJPVVM6"
      }
    },
    {
      "cell_type": "code",
      "source": [
        "def calculate_factorial(n):\n",
        "    if n == 0 or n == 1:\n",
        "        return 1\n",
        "    else:\n",
        "        return n * calculate_factorial(n - 1)\n",
        "\n",
        "# Get input from the user for the positive integer\n",
        "num = int(input(\"Enter a positive integer: \"))\n",
        "\n",
        "if num < 0:\n",
        "    print(\"Input should be a positive integer.\")\n",
        "else:\n",
        "    # Call the function to calculate the factorial\n",
        "    factorial = calculate_factorial(num)\n",
        "\n",
        "    # Display the result\n",
        "    print(f\"The factorial of {num} is: {factorial}\")"
      ],
      "metadata": {
        "id": "hwtr1wZmVX5A",
        "colab": {
          "base_uri": "https://localhost:8080/"
        },
        "outputId": "7561e76b-2b4e-4cdf-cb3b-b6a33a78a851"
      },
      "execution_count": 48,
      "outputs": [
        {
          "output_type": "stream",
          "name": "stdout",
          "text": [
            "Enter a positive integer: 10\n",
            "The factorial of 10 is: 3628800\n"
          ]
        }
      ]
    },
    {
      "cell_type": "markdown",
      "source": [
        "(19) Write a program that takes a positive integer n as input and prints the count of even numbers from 1 to n. Use a loop to iterate through the numbers and utilize the break statement to optimize the loop."
      ],
      "metadata": {
        "id": "Q9ecagcaVazW"
      }
    },
    {
      "cell_type": "code",
      "source": [
        "# Get input from the user for the positive integer\n",
        "n = int(input(\"Enter a positive integer: \"))\n",
        "\n",
        "# Initialize count of even numbers\n",
        "even_count = 0\n",
        "\n",
        "# Iterate through numbers from 1 to n\n",
        "for num in range(1, n + 1):\n",
        "    if num % 2 == 0:\n",
        "        even_count += 1  # Increment count if the number is even\n",
        "    elif num > n / 2:\n",
        "        break  # Since numbers are increasing, no need to check further if num > n/2\n",
        "\n",
        "# Display the count of even numbers\n",
        "print(f\"The count of even numbers from 1 to {n} is: {even_count}\")"
      ],
      "metadata": {
        "id": "gycgckoAVZjR",
        "colab": {
          "base_uri": "https://localhost:8080/"
        },
        "outputId": "11ca4d83-53c6-4441-ea65-57e30d5d6ee4"
      },
      "execution_count": 49,
      "outputs": [
        {
          "output_type": "stream",
          "name": "stdout",
          "text": [
            "Enter a positive integer: 25\n",
            "The count of even numbers from 1 to 25 is: 6\n"
          ]
        }
      ]
    },
    {
      "cell_type": "markdown",
      "source": [
        "(20) Write a Python function called count_vowels that takes a string as input and returns the count of vowels (both lowercase and uppercase) present in the string. Consider the vowels to be 'a', 'e', 'i', 'o', and 'u'. Ignore spaces and other non-alphabetic characters."
      ],
      "metadata": {
        "id": "cboAr5pEWUf5"
      }
    },
    {
      "cell_type": "code",
      "source": [
        "def count_vowels(input_string):\n",
        "    vowels = ['a', 'e', 'i', 'o', 'u']\n",
        "    count = 0\n",
        "\n",
        "    # Convert the input string to lowercase to handle uppercase vowels\n",
        "    input_string = input_string.lower()\n",
        "\n",
        "    # Iterate through characters in the string\n",
        "    for char in input_string:\n",
        "        if char in vowels:\n",
        "            count += 1\n",
        "\n",
        "    return count\n",
        "\n",
        "# Get input from the user\n",
        "input_string = input(\"Enter a string: \")\n",
        "\n",
        "# Call the function to count vowels\n",
        "vowel_count = count_vowels(input_string)\n",
        "\n",
        "# Display the count of vowels\n",
        "print(f\"The count of vowels in the string is: {vowel_count}\")"
      ],
      "metadata": {
        "id": "phs9gciMWWAW",
        "colab": {
          "base_uri": "https://localhost:8080/"
        },
        "outputId": "ded93bfb-2ae4-46e4-ee1d-6a1f93b0bfef"
      },
      "execution_count": 50,
      "outputs": [
        {
          "output_type": "stream",
          "name": "stdout",
          "text": [
            "Enter a string: Tharun\n",
            "The count of vowels in the string is: 2\n"
          ]
        }
      ]
    }
  ],
  "metadata": {
    "colab": {
      "provenance": [],
      "include_colab_link": true
    },
    "kernelspec": {
      "display_name": "Python 3 (ipykernel)",
      "language": "python",
      "name": "python3"
    },
    "language_info": {
      "codemirror_mode": {
        "name": "ipython",
        "version": 3
      },
      "file_extension": ".py",
      "mimetype": "text/x-python",
      "name": "python",
      "nbconvert_exporter": "python",
      "pygments_lexer": "ipython3",
      "version": "3.9.12"
    }
  },
  "nbformat": 4,
  "nbformat_minor": 0
}